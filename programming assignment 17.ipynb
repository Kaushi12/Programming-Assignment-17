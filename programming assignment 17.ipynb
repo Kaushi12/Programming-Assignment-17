{
 "cells": [
  {
   "cell_type": "code",
   "execution_count": 1,
   "id": "987b4051",
   "metadata": {},
   "outputs": [
    {
     "name": "stdout",
     "output_type": "stream",
     "text": [
      "1\n",
      "10\n",
      "2\n"
     ]
    }
   ],
   "source": [
    "def evenly_divisible(a,b,c):\n",
    "    final=0\n",
    "    for i in range(a,b+1):\n",
    "        if i%c==0:\n",
    "            final+=i\n",
    "        else:\n",
    "            pass\n",
    "    return final\n",
    "a=int(input())\n",
    "b=int(input())\n",
    "c=int(input())\n",
    "            "
   ]
  },
  {
   "cell_type": "code",
   "execution_count": 2,
   "id": "76497fd0",
   "metadata": {},
   "outputs": [
    {
     "data": {
      "text/plain": [
       "30"
      ]
     },
     "execution_count": 2,
     "metadata": {},
     "output_type": "execute_result"
    }
   ],
   "source": [
    "evenly_divisible(a,b,c)"
   ]
  },
  {
   "cell_type": "code",
   "execution_count": 5,
   "id": "7477d13b",
   "metadata": {},
   "outputs": [],
   "source": [
    "def correct_signs(statement):\n",
    "    if statement is True:\n",
    "        final=True\n",
    "    else:\n",
    "        final=False\n",
    "    return final"
   ]
  },
  {
   "cell_type": "code",
   "execution_count": 7,
   "id": "32209d57",
   "metadata": {},
   "outputs": [
    {
     "data": {
      "text/plain": [
       "True"
      ]
     },
     "execution_count": 7,
     "metadata": {},
     "output_type": "execute_result"
    }
   ],
   "source": [
    "correct_signs(10<20<30)"
   ]
  },
  {
   "cell_type": "code",
   "execution_count": 8,
   "id": "163edcca",
   "metadata": {},
   "outputs": [],
   "source": [
    "def replace_vowels(sen,sign):\n",
    "    lst=['a','A','e','E','i','I','o','O','u','U']\n",
    "    for i in sen:\n",
    "        if i in lst:\n",
    "            sen=sen.replace(i,sign)\n",
    "    return sen"
   ]
  },
  {
   "cell_type": "code",
   "execution_count": 9,
   "id": "6d26df2d",
   "metadata": {},
   "outputs": [
    {
     "data": {
      "text/plain": [
       "'th# ##rdv#rk'"
      ]
     },
     "execution_count": 9,
     "metadata": {},
     "output_type": "execute_result"
    }
   ],
   "source": [
    "replace_vowels(\"the aardvark\",\"#\")"
   ]
  },
  {
   "cell_type": "code",
   "execution_count": 10,
   "id": "11bf8243",
   "metadata": {},
   "outputs": [],
   "source": [
    "def recur_factorial(n):  \n",
    "    if n == 1:  \n",
    "        return n  \n",
    "    else:  \n",
    "        return n*recur_factorial(n-1) "
   ]
  },
  {
   "cell_type": "code",
   "execution_count": 12,
   "id": "050a2760",
   "metadata": {},
   "outputs": [
    {
     "data": {
      "text/plain": [
       "120"
      ]
     },
     "execution_count": 12,
     "metadata": {},
     "output_type": "execute_result"
    }
   ],
   "source": [
    "recur_factorial(5)"
   ]
  },
  {
   "cell_type": "code",
   "execution_count": 13,
   "id": "252d61e3",
   "metadata": {},
   "outputs": [],
   "source": [
    "def hamming_distance(s1,s2):\n",
    "    final=0\n",
    "    for i in range(0,len(s1)):\n",
    "        if s1[i]!=s2[i]:\n",
    "            final+=1\n",
    "        else:\n",
    "            pass\n",
    "    return final\n",
    "        "
   ]
  },
  {
   "cell_type": "code",
   "execution_count": 17,
   "id": "0b1e7205",
   "metadata": {},
   "outputs": [
    {
     "data": {
      "text/plain": [
       "5"
      ]
     },
     "execution_count": 17,
     "metadata": {},
     "output_type": "execute_result"
    }
   ],
   "source": [
    "hamming_distance(\"abcde\",\"bcdef\")"
   ]
  },
  {
   "cell_type": "code",
   "execution_count": null,
   "id": "1c777386",
   "metadata": {},
   "outputs": [],
   "source": []
  }
 ],
 "metadata": {
  "kernelspec": {
   "display_name": "Python 3",
   "language": "python",
   "name": "python3"
  },
  "language_info": {
   "codemirror_mode": {
    "name": "ipython",
    "version": 3
   },
   "file_extension": ".py",
   "mimetype": "text/x-python",
   "name": "python",
   "nbconvert_exporter": "python",
   "pygments_lexer": "ipython3",
   "version": "3.8.8"
  }
 },
 "nbformat": 4,
 "nbformat_minor": 5
}
